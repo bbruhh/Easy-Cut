{
 "cells": [
  {
   "cell_type": "markdown",
   "metadata": {},
   "source": [
    "# DeepLabCut Toolbox\n",
    "https://github.com/AlexEMG/DeepLabCut\n",
    "\n",
    "A Mathis, alexander.mathis@bethgelab.org & M Mathis, mackenzie@post.harvard.edu\n",
    "\n",
    "Generates training images with labels to check if annotation was done correctly/correctly loaded."
   ]
  },
  {
   "cell_type": "code",
   "execution_count": 1,
   "metadata": {
    "collapsed": true
   },
   "outputs": [],
   "source": [
    "####################################################\n",
    "######## Loading dependencies\n",
    "####################################################\n",
    "\n",
    "import os.path\n",
    "import sys\n",
    "sys.path.append(os.getcwd().split('Generating_a_Training_Set')[0])\n",
    "import matplotlib\n",
    "matplotlib.use('Agg')\n",
    "import numpy as np\n",
    "import pandas as pd\n",
    "import os\n",
    "from skimage import io\n",
    "import matplotlib.pyplot as plt\n",
    "from myconfig import Task, filename, bodyparts, Scorers, colormap, scale, msize, alphavalue, imagetype\n",
    "from myconfig import scorer as cfg_scorer\n",
    "import auxiliaryfunctions"
   ]
  },
  {
   "cell_type": "code",
   "execution_count": 2,
   "metadata": {},
   "outputs": [
    {
     "name": "stdout",
     "output_type": "stream",
     "text": [
      "4\n",
      "<map object at 0x7f79a6418828>\n",
      "['hand', 'Finger1', 'Finger2', 'Joystick']\n",
      "['reachingvideo1']\n",
      "Folder already exists!\n",
      "Creating images with labels by  Mackenzie\n"
     ]
    }
   ],
   "source": [
    "###################################################\n",
    "# Code if each bodypart has its own label file!\n",
    "###################################################\n",
    "\n",
    "Labels = ['.', '+', '*']  # order of labels for different scorers\n",
    "\n",
    "#############################################\n",
    "# Make sure you update the train.yaml file!\n",
    "#############################################\n",
    "\n",
    "num_joints = len(bodyparts)\n",
    "all_joints = map(lambda j: [j], range(num_joints))\n",
    "all_joints_names = bodyparts\n",
    "\n",
    "# https://stackoverflow.com/questions/14720331/how-to-generate-random-colors-in-matplotlib\n",
    "def get_cmap(n, name=colormap):\n",
    "    '''Returns a function that maps each index in 0, 1, ..., n-1 to a distinct\n",
    "    RGB color; the keyword argument name must be a standard mpl colormap name.'''\n",
    "    return plt.cm.get_cmap(name, n)\n",
    "\n",
    "Colorscheme = get_cmap(len(bodyparts))\n",
    "\n",
    "print(num_joints)\n",
    "print(all_joints)\n",
    "print(all_joints_names)\n",
    "\n",
    "\n",
    "basefolder = './' + 'data-' + Task\n",
    "numbodyparts = len(bodyparts)\n",
    "\n",
    "# Data frame to hold data of all data sets for different scorers, bodyparts and images\n",
    "DataCombined = None\n",
    "\n",
    "os.chdir(basefolder)\n",
    "\n",
    "DataCombined = pd.read_hdf(\n",
    "    'CollectedData_' + cfg_scorer + '.h5', 'df_with_missing')\n",
    "\n",
    "# Make list of different video data sets:\n",
    "folders = [\n",
    "    videodatasets for videodatasets in os.listdir(os.curdir)\n",
    "    if os.path.isdir(videodatasets) and\n",
    "    filename.split('.')[0] in videodatasets and 'labeled' not in videodatasets\n",
    "]\n",
    "\n",
    "print(folders)\n",
    "# videos=np.sort([fn for fn in os.listdir(os.curdir) if (\"avi\" in fn)])\n",
    "\n",
    "for folder in folders:\n",
    "    tmpfolder = folder + 'labeled'\n",
    "    auxiliaryfunctions.attempttomakefolder(tmpfolder)\n",
    "    os.chdir(folder)\n",
    "    # sort image file names according to how they were stacked (when labeled in Fiji)\n",
    "    files = [\n",
    "        fn for fn in os.listdir(os.curdir)\n",
    "        if (imagetype in fn and \"_labeled\" not in fn)\n",
    "    ]\n",
    "    files.sort(key=lambda f: int(''.join(filter(str.isdigit, f))))\n",
    "\n",
    "    comparisonbodyparts = bodyparts #list(set(DataCombined.columns.get_level_values(1))) \n",
    "\n",
    "    for index, imagename in enumerate(files):\n",
    "        image = io.imread(imagename)\n",
    "        plt.axis('off')\n",
    "\n",
    "        if np.ndim(image)==2:\n",
    "            h, w = np.shape(image)\n",
    "        else:\n",
    "            h, w, nc = np.shape(image)\n",
    "            \n",
    "        plt.figure(\n",
    "            frameon=False, figsize=(w * 1. / 100 * scale, h * 1. / 100 * scale))\n",
    "        plt.subplots_adjust(\n",
    "            left=0, bottom=0, right=1, top=1, wspace=0, hspace=0)\n",
    "\n",
    "        # This is important when using data combined / which runs consecutively!\n",
    "        imindex = np.where(\n",
    "            np.array(DataCombined.index.values) == folder + '/' + imagename)[0]\n",
    "\n",
    "        plt.imshow(image, 'bone')\n",
    "        for cc, scorer in enumerate(Scorers):\n",
    "            if index==0:\n",
    "                print(\"Creating images with labels by \", scorer)\n",
    "            for c, bp in enumerate(comparisonbodyparts):\n",
    "                plt.plot(\n",
    "                    DataCombined[scorer][bp]['x'].values[imindex],\n",
    "                    DataCombined[scorer][bp]['y'].values[imindex],\n",
    "                    Labels[cc],\n",
    "                    color=Colorscheme(c),\n",
    "                    alpha=alphavalue,\n",
    "                    ms=msize)\n",
    "\n",
    "        plt.xlim(0, w)\n",
    "        plt.ylim(0, h)\n",
    "        plt.axis('off')\n",
    "        plt.subplots_adjust(\n",
    "            left=0, bottom=0, right=1, top=1, wspace=0, hspace=0)\n",
    "        plt.gca().invert_yaxis()\n",
    "        plt.savefig('../' + tmpfolder + '/' + imagename)\n",
    "        plt.close(\"all\")\n",
    "\n",
    "    os.chdir(\"../\")\n",
    "os.chdir(\"../\")"
   ]
  },
  {
   "cell_type": "markdown",
   "metadata": {},
   "source": [
    "# Now, in the folder data-reaching, you will find a new folder called data-reachinglabeled - check these images"
   ]
  },
  {
   "cell_type": "code",
   "execution_count": null,
   "metadata": {
    "collapsed": true
   },
   "outputs": [],
   "source": []
  }
 ],
 "metadata": {
  "kernelspec": {
   "display_name": "Python 3",
   "language": "python",
   "name": "python3"
  },
  "language_info": {
   "codemirror_mode": {
    "name": "ipython",
    "version": 3
   },
   "file_extension": ".py",
   "mimetype": "text/x-python",
   "name": "python",
   "nbconvert_exporter": "python",
   "pygments_lexer": "ipython3",
   "version": "3.6.3"
  },
  "varInspector": {
   "cols": {
    "lenName": 16,
    "lenType": 16,
    "lenVar": 40
   },
   "kernels_config": {
    "python": {
     "delete_cmd_postfix": "",
     "delete_cmd_prefix": "del ",
     "library": "var_list.py",
     "varRefreshCmd": "print(var_dic_list())"
    },
    "r": {
     "delete_cmd_postfix": ") ",
     "delete_cmd_prefix": "rm(",
     "library": "var_list.r",
     "varRefreshCmd": "cat(var_dic_list()) "
    }
   },
   "types_to_exclude": [
    "module",
    "function",
    "builtin_function_or_method",
    "instance",
    "_Feature"
   ],
   "window_display": false
  }
 },
 "nbformat": 4,
 "nbformat_minor": 2
}
