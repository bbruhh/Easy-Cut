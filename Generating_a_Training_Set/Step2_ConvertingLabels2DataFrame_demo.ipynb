{
 "cells": [
  {
   "cell_type": "markdown",
   "metadata": {},
   "source": [
    "# DeepLabCut Toolbox\n",
    "https://github.com/AlexEMG/DeepLabCut\n",
    "A Mathis, alexander.mathis@bethgelab.org & M Mathis, mackenzie@post.harvard.edu\n",
    "\n",
    "This script generates a data structure in pandas, that contains the (relative) physical\n",
    "address of the image as well as the labels. These data are extracted from the \"labeling.csv\" files that\n",
    "can be generated in a different file e.g. ImageJ / Fiji. See readme for details. \n",
    "\n",
    "Load data from individial folders with a Task and combine in one panda dataframe.\n",
    "Keys of panda frame:\n",
    "    - scorer\n",
    "    - bodypart\n",
    "    - x,y"
   ]
  },
  {
   "cell_type": "code",
   "execution_count": 1,
   "metadata": {
    "collapsed": true
   },
   "outputs": [],
   "source": [
    "import numpy as np\n",
    "import pandas as pd\n",
    "import os,sys\n",
    "sys.path.append(os.getcwd().split('Generating_a_Training_Set')[0])\n",
    "from myconfig import Task, bodyparts, Scorers, invisibleboundary, multibodypartsfile, multibodypartsfilename, imagetype"
   ]
  },
  {
   "cell_type": "code",
   "execution_count": 2,
   "metadata": {},
   "outputs": [
    {
     "name": "stdout",
     "output_type": "stream",
     "text": [
      "reaching\n",
      "['hand', 'Finger1', 'Finger2', 'Joystick']\n",
      "['Mackenzie']\n"
     ]
    }
   ],
   "source": [
    "# check relevant global variables: \n",
    "print(Task)\n",
    "print(bodyparts)\n",
    "print(Scorers)\n",
    "\n",
    "basefolder='data-'+Task+'/'\n",
    "\n",
    "###################################################\n",
    "# Code if all bodyparts (per folder are shared in one file)\n",
    "# This code below converts it into multiple csv files per body part & folder\n",
    "# Based on an idea by @sneakers-the-rat\n",
    "###################################################\n",
    "\n",
    "if multibodypartsfile==True:\n",
    "    folders = [name for name in os.listdir(basefolder) if os.path.isdir(os.path.join(basefolder, name))]    \n",
    "    for folder in folders:\n",
    "        # load csv, iterate over nth value in a grouping by frame, save to bodyparts files\n",
    "        dframe = pd.read_csv(os.path.join(basefolder,folder,multibodypartsfilename))\n",
    "        frame_grouped = dframe.groupby('Slice') #Note: the order of bodyparts list in myconfig and labels must be identical!\n",
    "        for i, bodypart in enumerate(bodyparts):\n",
    "            part_df = frame_grouped.nth(i)\n",
    "            part_fn =  part_fn = os.path.join(basefolder,folder,bodypart+'.csv')\n",
    "            part_df.to_csv(part_fn)"
   ]
  },
  {
   "cell_type": "code",
   "execution_count": 3,
   "metadata": {},
   "outputs": [
    {
     "name": "stdout",
     "output_type": "stream",
     "text": [
      "Loading folder  reachingvideo1\n",
      "Done with folder  reachingvideo1\n",
      "Merging scorer's data.\n"
     ]
    }
   ],
   "source": [
    "###################################################\n",
    "# Code if each bodypart has its own label file!\n",
    "###################################################\n",
    "DataCombined=None #Data frame to hold data of all data sets for different scorers, bodyparts and images\n",
    "\n",
    "for scorer in Scorers:\n",
    "    os.chdir(basefolder)\n",
    "    #Make list of different video data sets / each one has its own folder\n",
    "    folders=[videodatasets for videodatasets in os.listdir(os.curdir) if os.path.isdir(videodatasets)==True]       \n",
    "    try: \n",
    "        DataSingleUser=pd.read_hdf('CollectedData_'+scorer+'.h5', 'df_with_missing')\n",
    "        numdistinctfolders=list(set([s.split('/')[0] for s in DataSingleUser.index])) #NOTE: SLICING to eliminate multiindices!\n",
    "        #print(\"found\",len(folders),len(numdistinctfolders))\n",
    "        if len(folders)>len(numdistinctfolders):\n",
    "            DataSingleUsers=None\n",
    "            print(\"Not all data converted!\")\n",
    "        else:\n",
    "            print(scorer,\"'s data already collected!\")\n",
    "            print(DataSingleUser.head())    \n",
    "    except FileNotFoundError:\n",
    "        DataSingleUser=None    \n",
    "\n",
    "    \n",
    "    if DataSingleUser is None:    \n",
    "        for folder in folders:\n",
    "            print(\"Loading folder \", folder)\n",
    "            os.chdir(folder)\n",
    "            # sort image file names according to how they were stacked\n",
    "            files=[fn for fn in os.listdir(os.curdir) if (\"img\" in fn and imagetype in fn and \"_labelled\" not in fn)]\n",
    "            files.sort(key=lambda f: int(''.join(filter(str.isdigit, f))))\n",
    "            \n",
    "            imageaddress=[folder+'/'+f for f in files]\n",
    "            Data_onefolder=pd.DataFrame({'Image name': imageaddress})\n",
    "            \n",
    "            frame,Frame=None,None\n",
    "            for bodypart in bodyparts:\n",
    "                datafile=bodypart\n",
    "                try:\n",
    "                        dframe=pd.read_csv(datafile+\".xls\",sep=None,engine='python')\n",
    "                except FileNotFoundError:\n",
    "                        os.rename(datafile+\".csv\", datafile+\".xls\")\n",
    "                        dframe=pd.read_csv(datafile+\".xls\",sep=None,engine='python')\n",
    "                        \n",
    "                # Note: If your csv file is not correctly loaded, then a common error is:\n",
    "                # \"AttributeError: 'DataFrame' object has no attribute 'X'\" or the corresponding error with Slice\n",
    "                # Try to make sure you specify the seperator of the csv file correctly. See https://github.com/AlexEMG/DeepLabCut/issues/10 for details.\n",
    "                                       \n",
    "                if dframe.shape[0]!=len(imageaddress):\n",
    "                    #Filling up with nans \n",
    "                    #dframe.set_index('Slice')\n",
    "                    new_index=pd.Index(np.arange(len(files))+1,name='Slice')\n",
    "                    dframe=dframe.set_index('Slice').reindex(new_index)\n",
    "                    dframe=dframe.reset_index()        \n",
    "             \n",
    "                #print(frame.head())\n",
    "                #print(bodypart)\n",
    "                index = pd.MultiIndex.from_product([[scorer], [bodypart], ['x', 'y']], names=['scorer', 'bodyparts', 'coords'])\n",
    "                \n",
    "                Xrescaled=dframe.X.values.astype(float)\n",
    "                Yrescaled=dframe.Y.values.astype(float)\n",
    "                \n",
    "                # get rid of values that are invisible >> thus user scored in left corner!\n",
    "                invisiblemarkersmask = (Xrescaled < invisibleboundary) * (Yrescaled < invisibleboundary)\n",
    "                Xrescaled[invisiblemarkersmask] = np.nan\n",
    "                Yrescaled[invisiblemarkersmask] = np.nan\n",
    "                \n",
    "                if Frame is None:\n",
    "                    #frame=pd.DataFrame(np.vstack([dframe.X,dframe.Y]).T, columns=index,index=imageaddress)\n",
    "                    frame=pd.DataFrame(np.vstack([Xrescaled,Yrescaled]).T, columns=index,index=imageaddress)\n",
    "                    #print(frame.head())\n",
    "                    Frame=frame\n",
    "                else:\n",
    "                    \n",
    "                \n",
    "                    frame=pd.DataFrame(np.vstack([Xrescaled,Yrescaled]).T, columns=index,index=imageaddress)\n",
    "                    Frame=pd.concat([Frame,frame],axis=1) # along bodyparts & scorer dimension\n",
    "\n",
    "                \n",
    "            print(\"Done with folder \", folder)   \n",
    "            if DataSingleUser is None:\n",
    "                DataSingleUser=Frame\n",
    "            else:\n",
    "                DataSingleUser=pd.concat([DataSingleUser,Frame],axis=0) #along filenames! \n",
    "                    \n",
    "            os.chdir('../')\n",
    "        \n",
    "        # Save data by this scorer\n",
    "        DataSingleUser.to_csv(\"CollectedData_\"+scorer+\".csv\") #breaks multi-indices HDF5 tables better!\n",
    "        DataSingleUser.to_hdf('CollectedData_'+scorer+'.h5', 'df_with_missing',format = 'table', mode='w')\n",
    "        \n",
    "    os.chdir('../')\n",
    "    \n",
    "    print(\"Merging scorer's data.\") "
   ]
  },
  {
   "cell_type": "code",
   "execution_count": null,
   "metadata": {
    "collapsed": true
   },
   "outputs": [],
   "source": []
  }
 ],
 "metadata": {
  "kernelspec": {
   "display_name": "Python 3",
   "language": "python",
   "name": "python3"
  },
  "language_info": {
   "codemirror_mode": {
    "name": "ipython",
    "version": 3
   },
   "file_extension": ".py",
   "mimetype": "text/x-python",
   "name": "python",
   "nbconvert_exporter": "python",
   "pygments_lexer": "ipython3",
   "version": "3.6.3"
  },
  "varInspector": {
   "cols": {
    "lenName": 16,
    "lenType": 16,
    "lenVar": 40
   },
   "kernels_config": {
    "python": {
     "delete_cmd_postfix": "",
     "delete_cmd_prefix": "del ",
     "library": "var_list.py",
     "varRefreshCmd": "print(var_dic_list())"
    },
    "r": {
     "delete_cmd_postfix": ") ",
     "delete_cmd_prefix": "rm(",
     "library": "var_list.r",
     "varRefreshCmd": "cat(var_dic_list()) "
    }
   },
   "types_to_exclude": [
    "module",
    "function",
    "builtin_function_or_method",
    "instance",
    "_Feature"
   ],
   "window_display": false
  }
 },
 "nbformat": 4,
 "nbformat_minor": 2
}
